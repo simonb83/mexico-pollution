{
 "cells": [
  {
   "cell_type": "markdown",
   "metadata": {},
   "source": [
    "Analysis for generating cartodb visualizations of pollution data."
   ]
  },
  {
   "cell_type": "code",
   "execution_count": 1,
   "metadata": {
    "collapsed": false
   },
   "outputs": [],
   "source": [
    "%matplotlib inline\n",
    "import matplotlib.pyplot as plt\n",
    "import seaborn as sns\n",
    "import pandas as pd\n",
    "import numpy as np\n",
    "import json\n",
    "from datetime import datetime\n",
    "import re\n",
    "from datetime import timedelta\n",
    "from sklearn.cluster import KMeans"
   ]
  },
  {
   "cell_type": "code",
   "execution_count": 2,
   "metadata": {
    "collapsed": true
   },
   "outputs": [],
   "source": [
    "def change_hour(s):\n",
    "    if '24:00' in s:\n",
    "        current_day = re.findall(r'(\\d{4}-\\d{2}-\\d{2})\\s\\d{2}:\\d{2}', s)[0]\n",
    "        current_day = datetime.strptime(current_day, '%Y-%m-%d')\n",
    "        next_day = current_day + timedelta(days=1)\n",
    "        return datetime.strftime(next_day, '%Y-%m-%d %H:%M')\n",
    "    else:\n",
    "        return s\n",
    "    \n",
    "def count_bad(measurements):\n",
    "    count = 0.0\n",
    "    for m in measurements:\n",
    "        count += float(m >= 96)\n",
    "    return count\n",
    "\n",
    "def get_day(dt):\n",
    "    return datetime.strftime(dt, \"%Y-%m-%d\")\n",
    "\n",
    "def get_time(dt):\n",
    "    return datetime.strftime(dt, \"%H:%M:%S\")\n",
    "\n",
    "def categorize(x):\n",
    "    return int(x / 14)\n",
    "\n",
    "def get_week_days(dt):\n",
    "    days = []\n",
    "    for i in range(7):\n",
    "        d = dt - timedelta(days=i)\n",
    "        days.append(datetime.strftime(d, \"%Y-%m-%d\"))\n",
    "    return days\n",
    "\n",
    "def set_timezone(dt):\n",
    "    date_time = dt.to_datetime()"
   ]
  },
  {
   "cell_type": "code",
   "execution_count": 3,
   "metadata": {
    "collapsed": false
   },
   "outputs": [],
   "source": [
    "pal = sns.color_palette(\"RdYlGn\", 10)\n",
    "colors = pal.as_hex()\n",
    "colors.reverse()"
   ]
  },
  {
   "cell_type": "code",
   "execution_count": 48,
   "metadata": {
    "collapsed": true
   },
   "outputs": [],
   "source": [
    "# Read in the catalogue of stations and make a dictionary of stations codes to latitude and longitude\n",
    "stations = pd.read_csv('data/raw/cat_estacion.csv', skiprows=1, encoding='latin1')\n",
    "stations = stations[['cve_estac', 'longitud', 'latitud']].sort_values(by='cve_estac')\n",
    "station_coords = {}\n",
    "for index, row in stations.iterrows():\n",
    "    station_coords[row['cve_estac']] = {'lat': row['latitud'], 'lon': row['longitud']}"
   ]
  },
  {
   "cell_type": "code",
   "execution_count": 49,
   "metadata": {
    "collapsed": true
   },
   "outputs": [],
   "source": [
    "# Read in the 2016 data and fill blanks\n",
    "aq_16 = pd.read_json('data/cleaned/contaminantes_2016_sm_O3.json').sort_values(by='date')\n",
    "aq_16 = aq_16.replace('', np.nan)"
   ]
  },
  {
   "cell_type": "code",
   "execution_count": 50,
   "metadata": {
    "collapsed": false
   },
   "outputs": [],
   "source": [
    "# Convert the date columns\n",
    "aq_16['date'] = aq_16['date'].apply(change_hour)\n",
    "aq_16['date'] = pd.to_datetime(aq_16['date'])\n",
    "\n",
    "# Convert other columns to numeric datatype\n",
    "cols = aq_16.columns.tolist()\n",
    "cols.remove('date')\n",
    "aq_16[cols] = aq_16[cols].apply(pd.to_numeric)\n",
    "\n",
    "# Calculate the mean and total count of bad readings per hour\n",
    "aq_16['all_mean'] = aq_16[cols].mean(axis=1)\n",
    "aq_16['bad_count'] = aq_16[cols].apply(lambda r: count_bad(r), axis=1)"
   ]
  },
  {
   "cell_type": "code",
   "execution_count": 51,
   "metadata": {
    "collapsed": false
   },
   "outputs": [],
   "source": [
    "aq_16['null_count'] = aq_16[cols].isnull().sum(axis=1)\n",
    "# Extract other representations of date and time\n",
    "aq_16['time'] = aq_16['date'].apply(lambda x: get_time(x))\n",
    "aq_16['day'] = aq_16['date'].apply(lambda x: get_day(x))"
   ]
  },
  {
   "cell_type": "code",
   "execution_count": 52,
   "metadata": {
    "collapsed": false
   },
   "outputs": [],
   "source": [
    "# Find the stations that were used in 2016\n",
    "stations_16 = stations[stations['cve_estac'].isin(cols)].copy()"
   ]
  },
  {
   "cell_type": "code",
   "execution_count": 53,
   "metadata": {
    "collapsed": false
   },
   "outputs": [],
   "source": [
    "# Cluster the stations together, into 9 clusters\n",
    "\n",
    "X = np.array(stations_16[['longitud', 'latitud']])\n",
    "\n",
    "kmeans = KMeans(n_clusters=9).fit(X)\n",
    "stations_16['cluster'] = (kmeans.labels_)\n",
    "stations_16 = stations_16.sort_values('cluster')"
   ]
  },
  {
   "cell_type": "code",
   "execution_count": 54,
   "metadata": {
    "collapsed": false
   },
   "outputs": [],
   "source": [
    "# Look first at the aggregate readings across the city\n",
    "aggregate = aq_16[['date', 'all_mean', 'bad_count', 'null_count', 'time', 'day']].copy()\n",
    "aggregate.index = aggregate['date']\n",
    "aggregate = aggregate.drop('date', axis=1)"
   ]
  },
  {
   "cell_type": "code",
   "execution_count": 55,
   "metadata": {
    "collapsed": false
   },
   "outputs": [
    {
     "data": {
      "text/plain": [
       "Timestamp('2016-04-10 00:00:00')"
      ]
     },
     "execution_count": 55,
     "metadata": {},
     "output_type": "execute_result"
    }
   ],
   "source": [
    "# Week with maximum number of bad readings\n",
    "aggregate['bad_count'].resample('W').sum().sort_values(ascending=False).index[0]"
   ]
  },
  {
   "cell_type": "code",
   "execution_count": 56,
   "metadata": {
    "collapsed": false
   },
   "outputs": [
    {
     "data": {
      "text/plain": [
       "Timestamp('2016-10-02 00:00:00')"
      ]
     },
     "execution_count": 56,
     "metadata": {},
     "output_type": "execute_result"
    }
   ],
   "source": [
    "# Week with lowest mean\n",
    "aggregate['all_mean'].resample('W').mean().sort_values(ascending=True).index[0]"
   ]
  },
  {
   "cell_type": "markdown",
   "metadata": {},
   "source": [
    "#### Start with the worst week"
   ]
  },
  {
   "cell_type": "code",
   "execution_count": 57,
   "metadata": {
    "collapsed": true
   },
   "outputs": [],
   "source": [
    "# Get dates of all days in the week\n",
    "max_day = datetime(2016,4,10)\n",
    "max_week = get_week_days(max_day)"
   ]
  },
  {
   "cell_type": "code",
   "execution_count": 35,
   "metadata": {
    "collapsed": false
   },
   "outputs": [],
   "source": [
    "# Average over week, and use interpolation to go from hours to minutes\n",
    "\n",
    "clusters = {}\n",
    "\n",
    "for i in range(9):\n",
    "    stat = stations_16[stations_16['cluster'] == i]['cve_estac'].unique().tolist()\n",
    "    sub = aq_16[stat + ['date', 'time', 'day']]\n",
    "    sub = sub[sub['day'].isin(max_week)]\n",
    "    sub = sub.groupby('time')[stat].mean()\n",
    "    sub.reset_index(inplace=True)\n",
    "    clusters[i] = sub\n",
    "    \n",
    "df = clusters[0].merge(clusters[1])\n",
    "for i in range(2, 9):\n",
    "    df = df.merge(clusters[i])\n",
    "    \n",
    "df = df.dropna(how='all', axis=1).copy()\n",
    "\n",
    "df.index=pd.date_range(\"2016-04-04 00:00\", \"2016-04-04 23:59\", freq=\"60min\")\n",
    "df.drop('time', inplace=True, axis=1)\n",
    "\n",
    "df = df.reindex(index=pd.date_range(\"2016-04-04 00:00\", \"2016-04-04 23:59\", freq=\"1min\"))\n",
    "df = df.interpolate(method='time')\n",
    "df.reset_index(inplace=True)"
   ]
  },
  {
   "cell_type": "code",
   "execution_count": 38,
   "metadata": {
    "collapsed": false
   },
   "outputs": [],
   "source": [
    "cols = df.columns.tolist()\n",
    "cols.remove('index')\n",
    "\n",
    "max_vals = pd.DataFrame(index = [], columns=['value', 'time'])\n",
    "\n",
    "for c in cols:\n",
    "    d = df[[c, 'index']].copy()\n",
    "    d['station'] = c\n",
    "    d.columns = [['value', 'time', 'station']]\n",
    "    max_vals = max_vals.append(d)\n",
    "    \n",
    "max_vals['latitud'] = max_vals['station'].apply(lambda x: station_coords[x]['lat'])\n",
    "max_vals['longitud'] = max_vals['station'].apply(lambda x: station_coords[x]['lon'])\n",
    "max_vals['time'] = max_vals['time'].apply(lambda x: x.tz_localize('America/Mexico_City'))"
   ]
  },
  {
   "cell_type": "code",
   "execution_count": 222,
   "metadata": {
    "collapsed": false
   },
   "outputs": [],
   "source": [
    "max_cat = max_vals.copy()\n",
    "max_cat['value'] = max_cat['value'].apply(categorize)\n",
    "max_cat.drop('station', axis=1).to_csv(\"max_day.csv\", index=None)"
   ]
  },
  {
   "cell_type": "code",
   "execution_count": 77,
   "metadata": {
    "collapsed": false
   },
   "outputs": [],
   "source": [
    "#Worst hour\n",
    "max_hour = max_vals.groupby(max_vals['time'].dt.hour)['value'].mean().sort_values(ascending=False).index[0]\n",
    "max_vals['hour'] = max_vals['time'].dt.hour\n",
    "max_day_peak = max_vals[max_vals['hour'] == max_hour][['time', 'value', 'latitud', 'longitud']]\n",
    "max_day_peak = peak[peak['time'] == '2016-04-04 15:00:00-05:00']"
   ]
  },
  {
   "cell_type": "markdown",
   "metadata": {},
   "source": [
    "#### Repeat analysis for best week"
   ]
  },
  {
   "cell_type": "code",
   "execution_count": 70,
   "metadata": {
    "collapsed": true
   },
   "outputs": [],
   "source": [
    "# Get dates of all days in the week\n",
    "min_day = datetime(2016,10,2)\n",
    "min_week = get_week_days(min_day)"
   ]
  },
  {
   "cell_type": "code",
   "execution_count": 60,
   "metadata": {
    "collapsed": true
   },
   "outputs": [],
   "source": [
    "# Average over week, and use interpolation to go from hours to minutes\n",
    "\n",
    "clusters = {}\n",
    "\n",
    "for i in range(9):\n",
    "    stat = stations_16[stations_16['cluster'] == i]['cve_estac'].unique().tolist()\n",
    "    sub = aq_16[stat + ['date', 'time', 'day']]\n",
    "    sub = sub[sub['day'].isin(min_week)]\n",
    "    sub = sub.groupby('time')[stat].mean()\n",
    "    sub.reset_index(inplace=True)\n",
    "    clusters[i] = sub\n",
    "    \n",
    "df = clusters[0].merge(clusters[1])\n",
    "for i in range(2, 9):\n",
    "    df = df.merge(clusters[i])\n",
    "    \n",
    "df = df.dropna(how='all', axis=1).copy()\n",
    "\n",
    "df.index=pd.date_range(\"2016-09-26 00:00\", \"2016-09-26 23:59\", freq=\"60min\")\n",
    "df.drop('time', inplace=True, axis=1)\n",
    "\n",
    "df = df.reindex(index=pd.date_range(\"2016-09-26 00:00\", \"2016-09-26 23:59\", freq=\"1min\"))\n",
    "df = df.interpolate(method='time')\n",
    "df.reset_index(inplace=True)"
   ]
  },
  {
   "cell_type": "code",
   "execution_count": 61,
   "metadata": {
    "collapsed": false
   },
   "outputs": [],
   "source": [
    "cols = df.columns.tolist()\n",
    "cols.remove('index')\n",
    "\n",
    "min_vals = pd.DataFrame(index = [], columns=['value', 'time'])\n",
    "\n",
    "for c in cols:\n",
    "    d = df[[c, 'index']].copy()\n",
    "    d['station'] = c\n",
    "    d.columns = [['value', 'time', 'station']]\n",
    "    min_vals = min_vals.append(d)\n",
    "    \n",
    "min_vals['latitud'] = min_vals['station'].apply(lambda x: station_coords[x]['lat'])\n",
    "min_vals['longitud'] = min_vals['station'].apply(lambda x: station_coords[x]['lon'])\n",
    "min_vals['time'] = min_vals['time'].apply(lambda x: x.tz_localize('America/Mexico_City'))"
   ]
  },
  {
   "cell_type": "code",
   "execution_count": 81,
   "metadata": {
    "collapsed": true
   },
   "outputs": [],
   "source": [
    "#Worst hour\n",
    "max_hour = min_vals.groupby(min_vals['time'].dt.hour)['value'].mean().sort_values(ascending=False).index[0]\n",
    "min_vals['hour'] = min_vals['time'].dt.hour\n",
    "min_day_peak = min_vals[min_vals['hour'] == max_hour][['time', 'value', 'latitud', 'longitud']]\n",
    "min_day_peak = min_day_peak[min_day_peak['time'] == '2016-09-26 14:00:00-05:00']"
   ]
  },
  {
   "cell_type": "code",
   "execution_count": 62,
   "metadata": {
    "collapsed": true
   },
   "outputs": [],
   "source": [
    "### Combine Min and Max vals"
   ]
  },
  {
   "cell_type": "code",
   "execution_count": 66,
   "metadata": {
    "collapsed": false
   },
   "outputs": [],
   "source": [
    "vals = min_vals.append(max_vals)\n",
    "vals['value'] = vals['value'].apply(categorize)"
   ]
  },
  {
   "cell_type": "code",
   "execution_count": 67,
   "metadata": {
    "collapsed": true
   },
   "outputs": [],
   "source": [
    "vals.drop('station', axis=1).to_csv(\"pollution_dynamic.csv\", index=None)"
   ]
  },
  {
   "cell_type": "code",
   "execution_count": 78,
   "metadata": {
    "collapsed": true
   },
   "outputs": [],
   "source": [
    "### Combine peak values"
   ]
  },
  {
   "cell_type": "code",
   "execution_count": 86,
   "metadata": {
    "collapsed": false
   },
   "outputs": [],
   "source": [
    "peaks = max_day_peak.append(min_day_peak)\n",
    "peaks.to_csv('peak_hours.csv', index=False)"
   ]
  },
  {
   "cell_type": "markdown",
   "metadata": {},
   "source": [
    "#### Generate css and legend for CartoDB"
   ]
  },
  {
   "cell_type": "code",
   "execution_count": 132,
   "metadata": {
    "collapsed": false
   },
   "outputs": [],
   "source": [
    "css = []\n",
    "for i in range(10):\n",
    "    s = \"#pollution_dynamic[value={}] {{\\n\\tmarker-fill: {};\\n\\tmarker-width: {};\\n}}\".format(i + 1, colors[i], 10 + (i )*2)\n",
    "    css.append(s)"
   ]
  },
  {
   "cell_type": "code",
   "execution_count": 133,
   "metadata": {
    "collapsed": false
   },
   "outputs": [],
   "source": [
    "with open('css.txt', \"w\") as f:\n",
    "    f.write(\"\\n\".join(css))"
   ]
  },
  {
   "cell_type": "code",
   "execution_count": 123,
   "metadata": {
    "collapsed": true
   },
   "outputs": [],
   "source": [
    "css_static = []\n",
    "for i in range(9, -1, -1):\n",
    "    s = \"#peak_hours [ value < {}] {{\\n\\tmarker-fill: {};\\n\\tmarker-width: {};\\n}}\".format((i + 1) * 14, colors[i], 10 + (i )*3)\n",
    "    css_static.append(s)"
   ]
  },
  {
   "cell_type": "code",
   "execution_count": 125,
   "metadata": {
    "collapsed": false
   },
   "outputs": [],
   "source": [
    "with open('css_static.txt', \"w\") as f:\n",
    "    f.write(\"\\n\".join(css_static))"
   ]
  },
  {
   "cell_type": "code",
   "execution_count": 131,
   "metadata": {
    "collapsed": false
   },
   "outputs": [
    {
     "name": "stdout",
     "output_type": "stream",
     "text": [
      "{ name: \"color0\", value: \"#17934e\"},\n",
      "{ name: \"color1\", value: \"#57b65f\"},\n",
      "{ name: \"color2\", value: \"#93d168\"},\n",
      "{ name: \"color3\", value: \"#c7e77f\"},\n",
      "{ name: \"color4\", value: \"#eef8a8\"},\n",
      "{ name: \"color5\", value: \"#fff1a8\"},\n",
      "{ name: \"color6\", value: \"#fece7c\"},\n",
      "{ name: \"color7\", value: \"#fa9b58\"},\n",
      "{ name: \"color8\", value: \"#ee613e\"},\n",
      "{ name: \"color9\", value: \"#d22b27\"},\n"
     ]
    }
   ],
   "source": [
    "for i, c in enumerate(colors):\n",
    "    print('{{ name: \"color{}\", value: \"{}\"}},'.format(i, c))"
   ]
  },
  {
   "cell_type": "code",
   "execution_count": null,
   "metadata": {
    "collapsed": true
   },
   "outputs": [],
   "source": [
    "# Generate legend for dynamic maps"
   ]
  },
  {
   "cell_type": "code",
   "execution_count": 11,
   "metadata": {
    "collapsed": false
   },
   "outputs": [],
   "source": [
    "widths = [10 + (i)*2 for i in range(10)]"
   ]
  },
  {
   "cell_type": "code",
   "execution_count": 47,
   "metadata": {
    "collapsed": false
   },
   "outputs": [
    {
     "data": {
      "image/png": "[encoded data removed]",
      "text/plain": [
       "<matplotlib.figure.Figure at 0x104df73c8>"
      ]
     },
     "metadata": {},
     "output_type": "display_data"
    }
   ],
   "source": [
    "fig, ax = plt.subplots(figsize=(10,8))\n",
    "\n",
    "circle = plt.Circle((0, 0), radius=10, fc=colors[0])\n",
    "plt.gca().add_patch(circle)\n",
    "\n",
    "positions = [0]\n",
    "\n",
    "position = 10\n",
    "for i in range(1, 10):\n",
    "    position += widths[i] + 2\n",
    "    positions.append(position)\n",
    "    circle = plt.Circle((position, 0), radius=widths[i], fc=colors[i])\n",
    "    plt.gca().add_patch(circle)\n",
    "    position += widths[i]\n",
    "\n",
    "ax.set_yticks([])\n",
    "ax.set_xticks([])\n",
    "ax.grid(False)\n",
    "ax.set_axis_bgcolor('w')\n",
    "ax.spines['bottom'].set_visible(True)\n",
    "ax.spines['bottom'].set_linewidth(0.5)\n",
    "\n",
    "ax.text(positions[-1], widths[-1] + 5, \"140\", ha='center', fontsize=20)\n",
    "ax.text(positions[0], widths[-1] + 5, \"14\", ha='center', fontsize=20)\n",
    "ax.text(-10, widths[-1] + 25, \"Ozone (ppb)\", ha='left', weight='bold', fontsize=20)\n",
    "\n",
    "plt.axis('scaled')\n",
    "#plt.show()\n",
    "plt.savefig(\"color_scale.png\", dpi=200, bbox_inches='tight')"
   ]
  }
 ],
 "metadata": {
  "kernelspec": {
   "display_name": "Python 3",
   "language": "python",
   "name": "python3"
  },
  "language_info": {
   "codemirror_mode": {
    "name": "ipython",
    "version": 3
   },
   "file_extension": ".py",
   "mimetype": "text/x-python",
   "name": "python",
   "nbconvert_exporter": "python",
   "pygments_lexer": "ipython3",
   "version": "3.5.1"
  }
 },
 "nbformat": 4,
 "nbformat_minor": 0
}
