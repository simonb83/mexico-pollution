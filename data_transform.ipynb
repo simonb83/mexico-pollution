{
 "cells": [
  {
   "cell_type": "markdown",
   "metadata": {},
   "source": [
    "#### Notebook for cleaning raw data"
   ]
  },
  {
   "cell_type": "code",
   "execution_count": 2,
   "metadata": {
    "collapsed": true
   },
   "outputs": [],
   "source": [
    "import json\n",
    "import re\n",
    "import os"
   ]
  },
  {
   "cell_type": "code",
   "execution_count": 3,
   "metadata": {
    "collapsed": true
   },
   "outputs": [],
   "source": [
    "def process_file(filename, metric):\n",
    "    with open(os.path.join(\"data\", \"raw\", filename), \"r\") as f:\n",
    "        base = json.load(f)\n",
    "        \n",
    "    dates = list(base['pollutionMeasurements']['date'].keys())\n",
    "    \n",
    "    stations = []\n",
    "    for d in dates:\n",
    "        s = list(base['pollutionMeasurements']['date'][d][metric].keys())\n",
    "        stations += s\n",
    "        \n",
    "    stations = set(stations)\n",
    "    \n",
    "    data_list = []\n",
    "    for d in dates:\n",
    "        data = {}\n",
    "        data['date'] = d\n",
    "        for s in stations:\n",
    "            if s in base['pollutionMeasurements']['date'][d][metric].keys():\n",
    "                data[s] = base['pollutionMeasurements']['date'][d][metric][s]\n",
    "        data_list.append(data)\n",
    "        \n",
    "    pre = re.findall(r'(.+)\\.json', filename)[0]\n",
    "    output_name = pre + \"_sm_\" + metric + \".json\"\n",
    "    \n",
    "    with open(os.path.join(\"data\", \"cleaned\", output_name), \"w\") as f:\n",
    "        json.dump(data_list, f)"
   ]
  },
  {
   "cell_type": "markdown",
   "metadata": {},
   "source": [
    "#### Contamination data"
   ]
  },
  {
   "cell_type": "code",
   "execution_count": 4,
   "metadata": {
    "collapsed": false
   },
   "outputs": [],
   "source": [
    "process_file(\"contaminantes_2015.json\", \"O3\")"
   ]
  },
  {
   "cell_type": "code",
   "execution_count": 5,
   "metadata": {
    "collapsed": false
   },
   "outputs": [],
   "source": [
    "process_file(\"contaminantes_2016.json\", \"O3\")"
   ]
  },
  {
   "cell_type": "markdown",
   "metadata": {},
   "source": [
    "#### Air pressure data"
   ]
  },
  {
   "cell_type": "code",
   "execution_count": 5,
   "metadata": {
    "collapsed": true
   },
   "outputs": [],
   "source": [
    "process_file(\"PA_2015.json\", \"PA\")"
   ]
  },
  {
   "cell_type": "code",
   "execution_count": 6,
   "metadata": {
    "collapsed": true
   },
   "outputs": [],
   "source": [
    "process_file(\"PA_2016.json\", \"PA\")"
   ]
  },
  {
   "cell_type": "markdown",
   "metadata": {},
   "source": [
    "#### Other meteorological data"
   ]
  },
  {
   "cell_type": "code",
   "execution_count": 7,
   "metadata": {
    "collapsed": true
   },
   "outputs": [],
   "source": [
    "# RH = Humidity\n",
    "# TMP = Temperature\n",
    "# WSP = Wind Speed\n",
    "# WDR = Wind Direction\n",
    "# PBa = Pressure?"
   ]
  },
  {
   "cell_type": "code",
   "execution_count": 8,
   "metadata": {
    "collapsed": true
   },
   "outputs": [],
   "source": [
    "process_file(\"meteorología_2015.json\", \"RH\")\n",
    "process_file(\"meteorología_2015.json\", \"TMP\")\n",
    "process_file(\"meteorología_2015.json\", \"WSP\")"
   ]
  },
  {
   "cell_type": "code",
   "execution_count": 9,
   "metadata": {
    "collapsed": true
   },
   "outputs": [],
   "source": [
    "process_file(\"meteorología_2016.json\", \"RH\")\n",
    "process_file(\"meteorología_2016.json\", \"TMP\")\n",
    "process_file(\"meteorología_2016.json\", \"WSP\")"
   ]
  }
 ],
 "metadata": {
  "kernelspec": {
   "display_name": "Python 3",
   "language": "python",
   "name": "python3"
  },
  "language_info": {
   "codemirror_mode": {
    "name": "ipython",
    "version": 3
   },
   "file_extension": ".py",
   "mimetype": "text/x-python",
   "name": "python",
   "nbconvert_exporter": "python",
   "pygments_lexer": "ipython3",
   "version": "3.5.1"
  }
 },
 "nbformat": 4,
 "nbformat_minor": 0
}
